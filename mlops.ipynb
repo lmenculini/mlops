{
 "cells": [
  {
   "cell_type": "code",
   "execution_count": 1,
   "metadata": {},
   "outputs": [
    {
     "name": "stdout",
     "output_type": "stream",
     "text": [
      "Hello mlops data scientist!\n"
     ]
    }
   ],
   "source": [
    "print(\"Hello mlops data scientist!\")"
   ]
  },
  {
   "cell_type": "code",
   "execution_count": null,
   "metadata": {},
   "outputs": [
    {
     "ename": "",
     "evalue": "",
     "output_type": "error",
     "traceback": [
      "\u001b[1;31mL'esecuzione di celle con 'Python 3.10.4 64-bit' richiede il pacchetto ipykernel.\n",
      "Eseguire il comando seguente per installare 'ipykernel' nell'ambiente Python. \r\n",
      "Comando: 'c:/Users/Lorenzo/AppData/Local/Programs/Python/Python310/python.exe -m pip install ipykernel -U --user --force-reinstall'"
     ]
    }
   ],
   "source": [
    "print(\"This is a new cell\")"
   ]
  }
 ],
 "metadata": {
  "kernelspec": {
   "display_name": "Python 3.10.4 64-bit",
   "language": "python",
   "name": "python3"
  },
  "language_info": {
   "codemirror_mode": {
    "name": "ipython",
    "version": 3
   },
   "file_extension": ".py",
   "mimetype": "text/x-python",
   "name": "python",
   "nbconvert_exporter": "python",
   "pygments_lexer": "ipython3",
   "version": "3.10.4"
  },
  "orig_nbformat": 4,
  "vscode": {
   "interpreter": {
    "hash": "eaf12abed3b1d533f229e9d06e53f50c66a810292d3b70a5bf8edbd60e5a3e6f"
   }
  }
 },
 "nbformat": 4,
 "nbformat_minor": 2
}
